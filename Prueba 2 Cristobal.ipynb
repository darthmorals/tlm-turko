{
 "cells": [
  {
   "cell_type": "markdown",
   "id": "9b036f1b",
   "metadata": {},
   "source": [
    "# Prueba 2: Cristobal Vasquez "
   ]
  },
  {
   "cell_type": "code",
   "execution_count": 204,
   "id": "c33c3319",
   "metadata": {},
   "outputs": [],
   "source": [
    "# Importamos las librerias a utilizar y cargamos los datos\n",
    "\n",
    "import pandas as pd\n",
    "import numpy as np\n",
    "import matplotlib.pyplot as plt\n",
    "from sklearn.decomposition import PCA\n",
    "from sklearn.preprocessing import StandardScaler\n",
    "import seaborn as sb\n",
    "%matplotlib inline\n",
    "from mpl_toolkits.mplot3d import Axes3D\n",
    "from matplotlib import cm\n",
    "plt.rcParams['figure.figsize'] = (16, 9)\n",
    "plt.style.use('ggplot')\n",
    "from sklearn import linear_model\n",
    "from sklearn.metrics import mean_squared_error, r2_score\n",
    "from sklearn.neighbors import NearestNeighbors\n",
    "from scipy.stats import pearsonr \n",
    "\n",
    "url = 'athlete_events (1).xlsx'\n",
    "\n",
    "df = pd.read_excel(url)\n",
    "\n"
   ]
  },
  {
   "cell_type": "code",
   "execution_count": 205,
   "id": "6898ecfe",
   "metadata": {},
   "outputs": [
    {
     "data": {
      "text/plain": [
       "Name           0\n",
       "Sex            0\n",
       "Age         9474\n",
       "Height     60171\n",
       "Weight     62875\n",
       "Team           0\n",
       "NOC            0\n",
       "Games          0\n",
       "Year           0\n",
       "Season         0\n",
       "City           0\n",
       "Sport          0\n",
       "Event          0\n",
       "Medal     231333\n",
       "dtype: int64"
      ]
     },
     "execution_count": 205,
     "metadata": {},
     "output_type": "execute_result"
    }
   ],
   "source": [
    "# Analizamos la data en busca de datos faltantes:\n",
    "\n",
    "datosnull = df.isnull().sum()\n",
    "\n",
    "datosnull[1:15,]"
   ]
  },
  {
   "cell_type": "markdown",
   "id": "5157cef3",
   "metadata": {},
   "source": [
    "Note que la columna *Medal* posee la mayor cantidad cantidad de valores *NAN*. Es por esto, que procedemos a sustituir estos valores por el valor más frecuente."
   ]
  },
  {
   "cell_type": "code",
   "execution_count": 206,
   "id": "259b5c8d",
   "metadata": {},
   "outputs": [
    {
     "name": "stdout",
     "output_type": "stream",
     "text": [
      "Gold      13372\n",
      "Bronze    13295\n",
      "Silver    13116\n",
      "Name: Medal, dtype: int64\n"
     ]
    }
   ],
   "source": [
    "print(df.Medal.value_counts())\n",
    "\n",
    "medal_frec = \"Gold\"\n",
    "\n",
    "df.Medal.fillna(medal_frec, inplace=True)"
   ]
  },
  {
   "cell_type": "code",
   "execution_count": 207,
   "id": "33f2bc97",
   "metadata": {},
   "outputs": [],
   "source": [
    "numvar = ['Age','Height','Weight','Year']"
   ]
  },
  {
   "cell_type": "markdown",
   "id": "a8630816",
   "metadata": {},
   "source": [
    "Para las variables numéricas, procedemos a remplazar los *NAN* con la media de los valores asociados a estas"
   ]
  },
  {
   "cell_type": "code",
   "execution_count": 208,
   "id": "c13dd64f",
   "metadata": {},
   "outputs": [],
   "source": [
    "mediaage= df.Age.median()\n",
    "mediaheight= df.Height.median()\n",
    "mediaweight= df.Weight.median()\n",
    "mediayear= df.Year.median()"
   ]
  },
  {
   "cell_type": "code",
   "execution_count": 209,
   "id": "5ab766cd",
   "metadata": {},
   "outputs": [],
   "source": [
    "df.Age.fillna(mediaage, inplace=True)\n",
    "df.Height.fillna(mediaheight, inplace=True)\n",
    "df.Weight.fillna(mediaweight, inplace=True)\n",
    "df.Year.fillna(mediayear, inplace=True)"
   ]
  },
  {
   "cell_type": "code",
   "execution_count": 210,
   "id": "10da1ee4",
   "metadata": {},
   "outputs": [],
   "source": [
    "## PCA"
   ]
  },
  {
   "cell_type": "markdown",
   "id": "fa80f12e",
   "metadata": {},
   "source": [
    "Ahora bien, una vez realizados estos cambios, claramente la variable no puede ser descrita en términos de sus variables numéricas. Sin embargo, podemos describir la variable **Sport** en términos de las varibales numérica ya que es la única variable que puede ser impactada por los datos de las variables numéricas."
   ]
  },
  {
   "cell_type": "code",
   "execution_count": 211,
   "id": "455c8eb4",
   "metadata": {},
   "outputs": [
    {
     "name": "stdout",
     "output_type": "stream",
     "text": [
      "Cálculo de la Media\n",
      "Age       2.550249e+01\n",
      "Height    1.752637e+02\n",
      "Weight    1.681937e+10\n",
      "Year      1.978378e+03\n",
      "dtype: float64\n",
      " \n",
      "Cálculo de la Varianza\n",
      "Age       2.550249e+01\n",
      "Height    1.752637e+02\n",
      "Weight    1.681937e+10\n",
      "Year      1.978378e+03\n",
      "dtype: float64\n"
     ]
    }
   ],
   "source": [
    "# Para escoger el número de componentes principales, \n",
    "# analizamos la media y la varianza de cada una de las variables numéricas\n",
    "\n",
    "x = df.loc[:, numvar].values\n",
    "\n",
    "datos1 = pd.DataFrame(data = x, columns = numvar)\n",
    "\n",
    "datos1.head()\n",
    "\n",
    "print(\"Cálculo de la Media\")\n",
    "print(datos1.mean())\n",
    "\n",
    "print(\" \")\n",
    "print(\"Cálculo de la Varianza\")\n",
    "print(datos1.mean())"
   ]
  },
  {
   "cell_type": "markdown",
   "id": "3578d175",
   "metadata": {},
   "source": [
    "Note que *Height* y *Año* son las variables con mayor varianza. Es por ello, que precisamos de estandarizar nuestros datos de forma de que esto no afecte nuestro análisis."
   ]
  },
  {
   "cell_type": "code",
   "execution_count": 212,
   "id": "0ed9491a",
   "metadata": {},
   "outputs": [],
   "source": [
    "# Escogemos la variable a describir\n",
    "\n",
    "y = df.loc[:,['Sport']].values\n",
    "\n",
    "# Estandarizamos las variables numéricas\n",
    "\n",
    "x = StandardScaler().fit_transform(x)"
   ]
  },
  {
   "cell_type": "code",
   "execution_count": 213,
   "id": "74ffa7fc",
   "metadata": {},
   "outputs": [],
   "source": [
    "# Aplicamos PCA\n",
    "\n",
    "pca = PCA(n_components=3)\n",
    "\n",
    "principalComponents = pca.fit_transform(x)\n",
    "\n",
    "principalDf = pd.DataFrame(data = principalComponents\n",
    "             , columns = ['CP1', 'CP2', 'CP3'])\n",
    "\n",
    "# Unimos la variable y con el Dataframe obtenido\n",
    "\n",
    "finalDf = pd.concat([principalDf, df[['Sport']]], axis = 1)"
   ]
  },
  {
   "cell_type": "code",
   "execution_count": 214,
   "id": "0007ecf3",
   "metadata": {},
   "outputs": [
    {
     "data": {
      "text/html": [
       "<div>\n",
       "<style scoped>\n",
       "    .dataframe tbody tr th:only-of-type {\n",
       "        vertical-align: middle;\n",
       "    }\n",
       "\n",
       "    .dataframe tbody tr th {\n",
       "        vertical-align: top;\n",
       "    }\n",
       "\n",
       "    .dataframe thead th {\n",
       "        text-align: right;\n",
       "    }\n",
       "</style>\n",
       "<table border=\"1\" class=\"dataframe\">\n",
       "  <thead>\n",
       "    <tr style=\"text-align: right;\">\n",
       "      <th></th>\n",
       "      <th>CP1</th>\n",
       "      <th>CP2</th>\n",
       "      <th>CP3</th>\n",
       "      <th>Sport</th>\n",
       "    </tr>\n",
       "  </thead>\n",
       "  <tbody>\n",
       "    <tr>\n",
       "      <th>0</th>\n",
       "      <td>-0.108242</td>\n",
       "      <td>0.686955</td>\n",
       "      <td>-0.030082</td>\n",
       "      <td>Basketball</td>\n",
       "    </tr>\n",
       "    <tr>\n",
       "      <th>1</th>\n",
       "      <td>-1.055127</td>\n",
       "      <td>0.483284</td>\n",
       "      <td>-0.013033</td>\n",
       "      <td>Judo</td>\n",
       "    </tr>\n",
       "    <tr>\n",
       "      <th>2</th>\n",
       "      <td>0.613646</td>\n",
       "      <td>-1.475417</td>\n",
       "      <td>0.031130</td>\n",
       "      <td>Football</td>\n",
       "    </tr>\n",
       "    <tr>\n",
       "      <th>3</th>\n",
       "      <td>2.089623</td>\n",
       "      <td>-2.033589</td>\n",
       "      <td>0.057262</td>\n",
       "      <td>Tug-Of-War</td>\n",
       "    </tr>\n",
       "    <tr>\n",
       "      <th>4</th>\n",
       "      <td>-0.137546</td>\n",
       "      <td>0.959057</td>\n",
       "      <td>-0.047118</td>\n",
       "      <td>Speed Skating</td>\n",
       "    </tr>\n",
       "  </tbody>\n",
       "</table>\n",
       "</div>"
      ],
      "text/plain": [
       "        CP1       CP2       CP3          Sport\n",
       "0 -0.108242  0.686955 -0.030082     Basketball\n",
       "1 -1.055127  0.483284 -0.013033           Judo\n",
       "2  0.613646 -1.475417  0.031130       Football\n",
       "3  2.089623 -2.033589  0.057262     Tug-Of-War\n",
       "4 -0.137546  0.959057 -0.047118  Speed Skating"
      ]
     },
     "execution_count": 214,
     "metadata": {},
     "output_type": "execute_result"
    }
   ],
   "source": [
    "finalDf.head()"
   ]
  },
  {
   "cell_type": "code",
   "execution_count": 215,
   "id": "5b0984b6",
   "metadata": {},
   "outputs": [
    {
     "data": {
      "text/plain": [
       "array([0.28076534, 0.25990179, 0.24999435])"
      ]
     },
     "execution_count": 215,
     "metadata": {},
     "output_type": "execute_result"
    }
   ],
   "source": [
    "pca.explained_variance_ratio_"
   ]
  },
  {
   "cell_type": "markdown",
   "id": "f8ec4bce",
   "metadata": {},
   "source": [
    "Luego, utilizando solo 3 componentes principales, obtenemos una varianza explicada de aproximadamente el 80% de los datos."
   ]
  },
  {
   "cell_type": "markdown",
   "id": "6d7277b2",
   "metadata": {},
   "source": [
    "## Regresión Lineal"
   ]
  },
  {
   "cell_type": "markdown",
   "id": "01c279d7",
   "metadata": {},
   "source": [
    "En los deportistas, una de las principales afecciones a lo largo del tiempo es la edad y el peso. Por eso, podemos ver como evoluciona el peso en función de la edad a través de una regresión lineal."
   ]
  },
  {
   "cell_type": "code",
   "execution_count": 216,
   "id": "12f0db10",
   "metadata": {},
   "outputs": [
    {
     "name": "stdout",
     "output_type": "stream",
     "text": [
      "Coefficients: \n",
      " [7.06820712e+08]\n",
      "Independent term: \n",
      " -1206321636.6760578\n",
      "Mean squared error: 12786352026318963717701632.00\n",
      "Variance score: 0.00\n"
     ]
    }
   ],
   "source": [
    "# Asignamos nuestra variable de entrada X para entrenamiento y las etiquetas Y.\n",
    "X =df[['Age']]\n",
    "X_train = np.array(X)\n",
    "Y = df['Weight'].values\n",
    "y_train = np.array(Y)\n",
    "\n",
    "# Creamos el objeto de Regresión Linear\n",
    "regr = linear_model.LinearRegression()\n",
    " \n",
    "# Entrenamos nuestro modelo\n",
    "regr.fit(X_train, y_train)\n",
    "\n",
    "# Hacemos las predicciones que en definitiva una línea (en este caso, al ser 2D)\n",
    "y_pred = regr.predict(X_train)\n",
    " \n",
    "# Veamos los coeficienetes obtenidos, En nuestro caso, serán la Pendiente\n",
    "print('Coefficients: \\n', regr.coef_)\n",
    "# Este es el valor donde corta el eje Y (en X=0)\n",
    "print('Independent term: \\n', regr.intercept_)\n",
    "# Error Cuadrado Medio\n",
    "print(\"Mean squared error: %.2f\" % mean_squared_error(y_train, y_pred))\n",
    "# Puntaje de Varianza. El mejor puntaje es un 1.0\n",
    "print('Variance score: %.2f' % r2_score(y_train, y_pred))\n"
   ]
  },
  {
   "cell_type": "markdown",
   "id": "c6b75041",
   "metadata": {},
   "source": [
    "Así, no corresponde realizar una regresión lineal entre estas dos variables ya que su $R^{2}$ es *12786352026318963717701632.00* y su puntaje de varianza es *0*."
   ]
  },
  {
   "cell_type": "markdown",
   "id": "34c8b909",
   "metadata": {},
   "source": [
    "## Outliers"
   ]
  },
  {
   "cell_type": "markdown",
   "id": "86b15abd",
   "metadata": {},
   "source": [
    "Para analizar los outliers, primero veamos los histogramas de las variables numéricas"
   ]
  },
  {
   "cell_type": "code",
   "execution_count": 217,
   "id": "4069c69a",
   "metadata": {},
   "outputs": [
    {
     "data": {
      "image/png": "[encoded data removed]",
      "text/plain": [
       "<Figure size 1152x648 with 4 Axes>"
      ]
     },
     "metadata": {},
     "output_type": "display_data"
    }
   ],
   "source": [
    "# Visualizamos rápidamente las caraterísticas de entrada\n",
    "datos1.hist()\n",
    "plt.show()"
   ]
  },
  {
   "cell_type": "markdown",
   "id": "320c0eb1",
   "metadata": {},
   "source": [
    "Ahora, analicemos la correlación entre la variable *Year* y las demas variables"
   ]
  },
  {
   "cell_type": "code",
   "execution_count": 218,
   "id": "3a3122e7",
   "metadata": {},
   "outputs": [
    {
     "data": {
      "text/plain": [
       "Age      -0.094497\n",
       "Height    0.039832\n",
       "Weight    0.001949\n",
       "Year      1.000000\n",
       "Name: Year, dtype: float64"
      ]
     },
     "execution_count": 218,
     "metadata": {},
     "output_type": "execute_result"
    }
   ],
   "source": [
    "correlation_matrix = datos1.corr()\n",
    "correlation_matrix[\"Year\"]"
   ]
  },
  {
   "cell_type": "markdown",
   "id": "e6e99c06",
   "metadata": {},
   "source": [
    "Así la mayor relación existente entre *Year* y las demás variables es con la variable *Height*."
   ]
  },
  {
   "cell_type": "code",
   "execution_count": 219,
   "id": "0d970506",
   "metadata": {},
   "outputs": [
    {
     "name": "stdout",
     "output_type": "stream",
     "text": [
      "Height vs Year\n"
     ]
    },
    {
     "data": {
      "text/plain": [
       "<matplotlib.collections.PathCollection at 0x7f2fd12c0b50>"
      ]
     },
     "execution_count": 219,
     "metadata": {},
     "output_type": "execute_result"
    },
    {
     "data": {
      "image/png": "[encoded data removed]",
      "text/plain": [
       "<Figure size 1152x648 with 1 Axes>"
      ]
     },
     "metadata": {},
     "output_type": "display_data"
    }
   ],
   "source": [
    "X = datos1[[\"Height\"]]\n",
    "X = X.values\n",
    "y = datos1[\"Year\"]\n",
    "y = y.values\n",
    "\n",
    "print(\"Height vs Year\")\n",
    "\n",
    "plt.scatter(y,datos1[[\"Height\"]])\n",
    "\n"
   ]
  },
  {
   "cell_type": "code",
   "execution_count": 220,
   "id": "ae80ed28",
   "metadata": {},
   "outputs": [
    {
     "data": {
      "text/plain": [
       "NearestNeighbors(n_neighbors=3)"
      ]
     },
     "execution_count": 220,
     "metadata": {},
     "output_type": "execute_result"
    }
   ],
   "source": [
    "# Aplicamos KNN para k=3\n",
    "\n",
    "nbrs = NearestNeighbors(n_neighbors = 3)\n",
    "nbrs.fit(X)"
   ]
  },
  {
   "cell_type": "code",
   "execution_count": 221,
   "id": "4737e3a2",
   "metadata": {},
   "outputs": [
    {
     "data": {
      "text/plain": [
       "[<matplotlib.lines.Line2D at 0x7f2fd0a37130>]"
      ]
     },
     "execution_count": 221,
     "metadata": {},
     "output_type": "execute_result"
    },
    {
     "data": {
      "image/png": "[encoded data removed]",
      "text/plain": [
       "<Figure size 1152x648 with 1 Axes>"
      ]
     },
     "metadata": {},
     "output_type": "display_data"
    }
   ],
   "source": [
    "# Distancias e índices de k-vecino de los resultados del modelo\n",
    "distances, indexes = nbrs.kneighbors(X)\n",
    "# Grafico de las medias de las k-distancias de cada observación\n",
    "plt.plot(distances.mean(axis =1))"
   ]
  },
  {
   "cell_type": "code",
   "execution_count": 222,
   "id": "92970602",
   "metadata": {},
   "outputs": [
    {
     "data": {
      "text/html": [
       "<div>\n",
       "<style scoped>\n",
       "    .dataframe tbody tr th:only-of-type {\n",
       "        vertical-align: middle;\n",
       "    }\n",
       "\n",
       "    .dataframe tbody tr th {\n",
       "        vertical-align: top;\n",
       "    }\n",
       "\n",
       "    .dataframe thead th {\n",
       "        text-align: right;\n",
       "    }\n",
       "</style>\n",
       "<table border=\"1\" class=\"dataframe\">\n",
       "  <thead>\n",
       "    <tr style=\"text-align: right;\">\n",
       "      <th></th>\n",
       "      <th>ID</th>\n",
       "      <th>Name</th>\n",
       "      <th>Sex</th>\n",
       "      <th>Age</th>\n",
       "      <th>Height</th>\n",
       "      <th>Weight</th>\n",
       "      <th>Team</th>\n",
       "      <th>NOC</th>\n",
       "      <th>Games</th>\n",
       "      <th>Year</th>\n",
       "      <th>Season</th>\n",
       "      <th>City</th>\n",
       "      <th>Sport</th>\n",
       "      <th>Event</th>\n",
       "      <th>Medal</th>\n",
       "    </tr>\n",
       "  </thead>\n",
       "  <tbody>\n",
       "    <tr>\n",
       "      <th>68861</th>\n",
       "      <td>35122</td>\n",
       "      <td>Nadia Fezzani</td>\n",
       "      <td>F</td>\n",
       "      <td>24.0</td>\n",
       "      <td>131.0</td>\n",
       "      <td>41.0</td>\n",
       "      <td>Libya</td>\n",
       "      <td>LBA</td>\n",
       "      <td>1980 Summer</td>\n",
       "      <td>1980</td>\n",
       "      <td>Summer</td>\n",
       "      <td>Moskva</td>\n",
       "      <td>Swimming</td>\n",
       "      <td>Swimming Women's 100 metres Freestyle</td>\n",
       "      <td>Gold</td>\n",
       "    </tr>\n",
       "    <tr>\n",
       "      <th>68862</th>\n",
       "      <td>35122</td>\n",
       "      <td>Nadia Fezzani</td>\n",
       "      <td>F</td>\n",
       "      <td>24.0</td>\n",
       "      <td>131.0</td>\n",
       "      <td>41.0</td>\n",
       "      <td>Libya</td>\n",
       "      <td>LBA</td>\n",
       "      <td>1980 Summer</td>\n",
       "      <td>1980</td>\n",
       "      <td>Summer</td>\n",
       "      <td>Moskva</td>\n",
       "      <td>Swimming</td>\n",
       "      <td>Swimming Women's 100 metres Butterfly</td>\n",
       "      <td>Gold</td>\n",
       "    </tr>\n",
       "    <tr>\n",
       "      <th>159934</th>\n",
       "      <td>80255</td>\n",
       "      <td>Salvador Miranda</td>\n",
       "      <td>M</td>\n",
       "      <td>22.0</td>\n",
       "      <td>130.0</td>\n",
       "      <td>51.0</td>\n",
       "      <td>Nicaragua</td>\n",
       "      <td>NCA</td>\n",
       "      <td>1972 Summer</td>\n",
       "      <td>1972</td>\n",
       "      <td>Summer</td>\n",
       "      <td>Munich</td>\n",
       "      <td>Boxing</td>\n",
       "      <td>Boxing Men's Flyweight</td>\n",
       "      <td>Gold</td>\n",
       "    </tr>\n",
       "    <tr>\n",
       "      <th>166544</th>\n",
       "      <td>83657</td>\n",
       "      <td>Dmitry Aleksandrovich Musersky</td>\n",
       "      <td>M</td>\n",
       "      <td>23.0</td>\n",
       "      <td>219.0</td>\n",
       "      <td>104.0</td>\n",
       "      <td>Russia</td>\n",
       "      <td>RUS</td>\n",
       "      <td>2012 Summer</td>\n",
       "      <td>2012</td>\n",
       "      <td>Summer</td>\n",
       "      <td>London</td>\n",
       "      <td>Volleyball</td>\n",
       "      <td>Volleyball Men's Volleyball</td>\n",
       "      <td>Gold</td>\n",
       "    </tr>\n",
       "    <tr>\n",
       "      <th>180615</th>\n",
       "      <td>90772</td>\n",
       "      <td>Helman Palije</td>\n",
       "      <td>M</td>\n",
       "      <td>21.0</td>\n",
       "      <td>128.0</td>\n",
       "      <td>74.0</td>\n",
       "      <td>Malawi</td>\n",
       "      <td>MAW</td>\n",
       "      <td>1988 Summer</td>\n",
       "      <td>1988</td>\n",
       "      <td>Summer</td>\n",
       "      <td>Seoul</td>\n",
       "      <td>Boxing</td>\n",
       "      <td>Boxing Men's Middleweight</td>\n",
       "      <td>Gold</td>\n",
       "    </tr>\n",
       "    <tr>\n",
       "      <th>196667</th>\n",
       "      <td>98731</td>\n",
       "      <td>Peter John Ramos Fuentes</td>\n",
       "      <td>M</td>\n",
       "      <td>19.0</td>\n",
       "      <td>219.0</td>\n",
       "      <td>113.0</td>\n",
       "      <td>Puerto Rico</td>\n",
       "      <td>PUR</td>\n",
       "      <td>2004 Summer</td>\n",
       "      <td>2004</td>\n",
       "      <td>Summer</td>\n",
       "      <td>Athina</td>\n",
       "      <td>Basketball</td>\n",
       "      <td>Basketball Men's Basketball</td>\n",
       "      <td>Gold</td>\n",
       "    </tr>\n",
       "    <tr>\n",
       "      <th>220270</th>\n",
       "      <td>110638</td>\n",
       "      <td>Boston Simbeye</td>\n",
       "      <td>M</td>\n",
       "      <td>28.0</td>\n",
       "      <td>130.0</td>\n",
       "      <td>67.0</td>\n",
       "      <td>Malawi</td>\n",
       "      <td>MAW</td>\n",
       "      <td>1988 Summer</td>\n",
       "      <td>1988</td>\n",
       "      <td>Summer</td>\n",
       "      <td>Seoul</td>\n",
       "      <td>Boxing</td>\n",
       "      <td>Boxing Men's Welterweight</td>\n",
       "      <td>Gold</td>\n",
       "    </tr>\n",
       "  </tbody>\n",
       "</table>\n",
       "</div>"
      ],
      "text/plain": [
       "            ID                            Name Sex   Age  Height  Weight  \\\n",
       "68861    35122                   Nadia Fezzani   F  24.0   131.0    41.0   \n",
       "68862    35122                   Nadia Fezzani   F  24.0   131.0    41.0   \n",
       "159934   80255                Salvador Miranda   M  22.0   130.0    51.0   \n",
       "166544   83657  Dmitry Aleksandrovich Musersky   M  23.0   219.0   104.0   \n",
       "180615   90772                   Helman Palije   M  21.0   128.0    74.0   \n",
       "196667   98731        Peter John Ramos Fuentes   M  19.0   219.0   113.0   \n",
       "220270  110638                  Boston Simbeye   M  28.0   130.0    67.0   \n",
       "\n",
       "               Team  NOC        Games  Year  Season    City       Sport  \\\n",
       "68861         Libya  LBA  1980 Summer  1980  Summer  Moskva    Swimming   \n",
       "68862         Libya  LBA  1980 Summer  1980  Summer  Moskva    Swimming   \n",
       "159934    Nicaragua  NCA  1972 Summer  1972  Summer  Munich      Boxing   \n",
       "166544       Russia  RUS  2012 Summer  2012  Summer  London  Volleyball   \n",
       "180615       Malawi  MAW  1988 Summer  1988  Summer   Seoul      Boxing   \n",
       "196667  Puerto Rico  PUR  2004 Summer  2004  Summer  Athina  Basketball   \n",
       "220270       Malawi  MAW  1988 Summer  1988  Summer   Seoul      Boxing   \n",
       "\n",
       "                                        Event Medal  \n",
       "68861   Swimming Women's 100 metres Freestyle  Gold  \n",
       "68862   Swimming Women's 100 metres Butterfly  Gold  \n",
       "159934                 Boxing Men's Flyweight  Gold  \n",
       "166544            Volleyball Men's Volleyball  Gold  \n",
       "180615              Boxing Men's Middleweight  Gold  \n",
       "196667            Basketball Men's Basketball  Gold  \n",
       "220270              Boxing Men's Welterweight  Gold  "
      ]
     },
     "execution_count": 222,
     "metadata": {},
     "output_type": "execute_result"
    }
   ],
   "source": [
    "# Cortemos para 2.5\n",
    "\n",
    "outlier_index = np.where(distances.mean(axis = 1) > 0.3)\n",
    "outlier_index\n",
    "\n",
    "# Visualicemos\n",
    "\n",
    "outlier_values = df.iloc[outlier_index]\n",
    "outlier_values"
   ]
  },
  {
   "cell_type": "markdown",
   "id": "5ccff52e",
   "metadata": {},
   "source": [
    "Así, los outliers son medallistas de oro compitiendo en verano. Visuealicemos estas anomalías en el siguiente gráfico"
   ]
  },
  {
   "cell_type": "code",
   "execution_count": 223,
   "id": "54799c48",
   "metadata": {},
   "outputs": [
    {
     "data": {
      "text/plain": [
       "<matplotlib.collections.PathCollection at 0x7f2fcf880cd0>"
      ]
     },
     "execution_count": 223,
     "metadata": {},
     "output_type": "execute_result"
    },
    {
     "data": {
      "image/png": "[encoded data removed]",
      "text/plain": [
       "<Figure size 1152x648 with 1 Axes>"
      ]
     },
     "metadata": {},
     "output_type": "display_data"
    }
   ],
   "source": [
    "# Plot datos\n",
    "plt.scatter(X,y, color = \"b\", s = 65)\n",
    "# Plot Outlier\n",
    "plt.scatter(outlier_values[\"Year\"], outlier_values[\"Height\"], color = \"r\")"
   ]
  },
  {
   "cell_type": "markdown",
   "id": "abfc2be5",
   "metadata": {},
   "source": [
    "## Test de Hipótesis de Pearson\n"
   ]
  },
  {
   "cell_type": "markdown",
   "id": "eba9c30e",
   "metadata": {},
   "source": [
    "Realizaremos el test de hipótesis entre la variable *Sport* y la variable *Age* ya que es una de las variables categóricoas que se relacionan en demasía."
   ]
  },
  {
   "cell_type": "code",
   "execution_count": 237,
   "id": "8db8d68e",
   "metadata": {},
   "outputs": [
    {
     "name": "stdout",
     "output_type": "stream",
     "text": [
      "stat=1.000, p=0.000\n",
      "p value is 0.0\n",
      "Dependent(Hay relación entre las variables)\n"
     ]
    }
   ],
   "source": [
    "# Realizamos el conteo de cada uno de los valores asociados a cada variable\n",
    "\n",
    "X = df.Age.value_counts()\n",
    "\n",
    "X = np.array(X)\n",
    "\n",
    "Y = df.Sport.value_counts()\n",
    "\n",
    "Y = X = np.array(Y)\n",
    "\n",
    "# Aplicamos el Test de Pearson\n",
    "\n",
    "stat, p = pearsonr(X, Y)\n",
    "print('stat=%.3f, p=%.3f' % (stat, p))\n",
    "\n",
    "alpha = 0.05\n",
    "print(\"p value is \" + str(p)) \n",
    "if p <= alpha: \n",
    "    print('Dependent(Hay relación entre las variables)') \n",
    "else: \n",
    "    print('Independent(NO hay relación entre las variables)') "
   ]
  },
  {
   "cell_type": "code",
   "execution_count": null,
   "id": "3dc00991",
   "metadata": {},
   "outputs": [],
   "source": [
    "Así, como $p=0,$ entonces hay una probabilidad de que las variables si esten relacionadas."
   ]
  }
 ],
 "metadata": {
  "kernelspec": {
   "display_name": "Python 3",
   "language": "python",
   "name": "python3"
  },
  "language_info": {
   "codemirror_mode": {
    "name": "ipython",
    "version": 3
   },
   "file_extension": ".py",
   "mimetype": "text/x-python",
   "name": "python",
   "nbconvert_exporter": "python",
   "pygments_lexer": "ipython3",
   "version": "3.8.8"
  }
 },
 "nbformat": 4,
 "nbformat_minor": 5
}
